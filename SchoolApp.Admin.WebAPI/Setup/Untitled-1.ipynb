{
 "cells": [
  {
   "cell_type": "code",
   "execution_count": 4,
   "metadata": {},
   "outputs": [],
   "source": [
    "import json\n",
    "import uuid\n",
    "\n",
    "# Load Enrollments.json\n",
    "with open('Enrollments.json', 'r') as f:\n",
    "    enrollments = json.load(f)\n",
    "\n",
    "# Generate and replace enrollmentId with GUIDs in descending order\n",
    "for i in range(len(enrollments), 0, -1):\n",
    "    enrollments[i-1]['enrollmentId'] = str(uuid.uuid4())\n",
    "\n",
    "# Write updated enrollments back to Enrollments.json\n",
    "with open('Enrollments.json', 'w') as f:\n",
    "    json.dump(enrollments, f, indent=4)"
   ]
  },
  {
   "cell_type": "code",
   "execution_count": null,
   "metadata": {},
   "outputs": [],
   "source": []
  }
 ],
 "metadata": {
  "language_info": {
   "name": "python"
  }
 },
 "nbformat": 4,
 "nbformat_minor": 2
}
