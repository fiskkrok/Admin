{
 "cells": [
  {
   "cell_type": "code",
   "execution_count": null,
   "metadata": {},
   "outputs": [],
   "source": [
    "import json\n",
    "\n",
    "# Load Students.json\n",
    "with open('Students.json', 'r') as f:\n",
    "    students = json.load(f)\n",
    "\n",
    "# Load Enrollments.json\n",
    "with open('Enrollments.json', 'r') as f:\n",
    "    enrollments = json.load(f)\n",
    "\n",
    "# Replace studentId in Enrollments.json with studentId from Students.json\n",
    "for i in range(min(len(students), len(enrollments))):\n",
    "    enrollments[i]['studentId'] = students[i]['studentId']\n",
    "\n",
    "# Write updated enrollments back to Enrollments.json\n",
    "with open('Enrollments.json', 'w') as f:\n",
    "    json.dump(enrollments, f, indent=4)"
   ]
  }
 ],
 "metadata": {
  "language_info": {
   "name": "python"
  }
 },
 "nbformat": 4,
 "nbformat_minor": 2
}
